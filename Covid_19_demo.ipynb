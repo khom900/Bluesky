{
 "nbformat": 4,
 "nbformat_minor": 2,
 "metadata": {
  "language_info": {
   "name": "python",
   "codemirror_mode": {
    "name": "ipython",
    "version": 3
   },
   "version": "3.7.6-final"
  },
  "orig_nbformat": 2,
  "file_extension": ".py",
  "mimetype": "text/x-python",
  "name": "python",
  "npconvert_exporter": "python",
  "pygments_lexer": "ipython3",
  "version": 3,
  "kernelspec": {
   "name": "python3",
   "display_name": "Python 3"
  }
 },
 "cells": [
  {
   "cell_type": "markdown",
   "metadata": {},
   "source": [
    "# บดทดลองดืงข้มุนจาก github เลื่อง Covid-19 on 11-04-2020\n",
    "* data source:\n",
    "* h \n"
   ],
   "execution_count": null,
   "outputs": []
  },
  {
   "cell_type": "code",
   "execution_count": null,
   "metadata": {},
   "outputs": [],
   "source": [
    "import pandas as pd\n",
    "import seaborn as sns\n",
    "import matplotlib.pyplot as plt\n",
    "import numpy as np\n",
    "\n",
    "from pandas.plotting import register_matplotlib_converters\n",
    "register_matplotlib_converters()\n",
    "\n",
    "import ipywidgets as widgets\n",
    "from ipywidgets import interact, interactive, fixed, interact_manual\n",
    "\n",
    "%matplotlib inline\n",
    "%config InlineBackend.figure_format='retina'"
   ]
  },
  {
   "cell_type": "code",
   "execution_count": null,
   "metadata": {},
   "outputs": [],
   "source": [
    "import warnings\n",
    "warnings.filterwarnings('ignore')"
   ]
  },
  {
   "cell_type": "code",
   "execution_count": null,
   "metadata": {},
   "outputs": [],
   "source": [
    "print(f'pandas version:{pd.__version__}')\n",
    "print(f'seaborn version:{sns.__version__}')"
   ]
  },
  {
   "cell_type": "code",
   "execution_count": null,
   "metadata": {},
   "outputs": [],
   "source": [
    "pd.Timestamp.now()"
   ]
  },
  {
   "cell_type": "markdown",
   "metadata": {},
   "source": [
    "## read data from github"
   ],
   "execution_count": null,
   "outputs": []
  },
  {
   "cell_type": "code",
   "execution_count": null,
   "metadata": {},
   "outputs": [],
   "source": [
    "df=pd.read_csv('https://github.com/CSSEGISandData/COVID-19/raw/master/csse_covid_19_data/csse_covid_19_time_series/time_series_covid19_confirmed_global.csv')\n",
    "df\n",
    ""
   ]
  },
  {
   "cell_type": "code",
   "execution_count": null,
   "metadata": {},
   "outputs": [],
   "source": [
    "path='https://github.com/CSSEGISandData/COVID-19/raw/master/csse_covid_19_data/csse_covid_19_time_series/time_series_covid19_'\n",
    "#path='https://github.com/CSSEGISandData/COVID-19/raw/master/csse_covid_19_data/csse_covid_19_time_series/time_series_covid19_confirmed_global.csv'\n",
    "status=['Confirmed', 'Deaths', 'Recovered']\n",
    "dfs=[] # list contains serveral dataframes\n",
    "for s in status:\n",
    "#     print(f'{path}{s.lower()}_global.csv')\n",
    "    d=pd.read_csv(f'{path}{s.lower()}_global.csv')\n",
    "    dfs.append(d)\n",
    "dfs\n",
    ""
   ]
  },
  {
   "cell_type": "code",
   "execution_count": null,
   "metadata": {},
   "outputs": [],
   "source": [
    "dfs[0]"
   ]
  },
  {
   "cell_type": "code",
   "execution_count": null,
   "metadata": {},
   "outputs": [],
   "source": [
    "dfs[1]"
   ]
  },
  {
   "cell_type": "code",
   "execution_count": null,
   "metadata": {},
   "outputs": [],
   "source": [
    "dfs[2]"
   ]
  },
  {
   "cell_type": "markdown",
   "metadata": {},
   "source": [
    "### appen data"
   ],
   "execution_count": null,
   "outputs": []
  },
  {
   "cell_type": "code",
   "execution_count": null,
   "metadata": {},
   "outputs": [],
   "source": [
    "df=pd.concat(dfs, keys=status)\n",
    "df"
   ]
  },
  {
   "cell_type": "code",
   "execution_count": null,
   "metadata": {},
   "outputs": [],
   "source": [
    "df.loc['Deaths']"
   ]
  },
  {
   "cell_type": "code",
   "execution_count": null,
   "metadata": {},
   "outputs": [],
   "source": [
    "df.loc['Confirmed']"
   ]
  },
  {
   "cell_type": "code",
   "execution_count": null,
   "metadata": {},
   "outputs": [],
   "source": [
    "df.loc['Recovered']"
   ]
  },
  {
   "cell_type": "code",
   "execution_count": null,
   "metadata": {},
   "outputs": [],
   "source": [
    "# df.drop(columns=['Lat','Long', inplace=True])"
   ]
  },
  {
   "cell_type": "markdown",
   "metadata": {},
   "source": [
    "### unpivot/melt data"
   ],
   "execution_count": null,
   "outputs": []
  },
  {
   "cell_type": "code",
   "execution_count": null,
   "metadata": {},
   "outputs": [],
   "source": [
    "pd.melt(df.loc['Recovered'], \n",
    "        id_vars=['Province/State','Country/Region','Lat','Long'],\n",
    "        var_name='Date',value_name='Confirmed')"
   ]
  },
  {
   "cell_type": "code",
   "execution_count": null,
   "metadata": {},
   "outputs": [],
   "source": [
    "dtmps=[]\n",
    "for k in status:\n",
    "    dtmps.append(pd.melt(df.loc[k], \n",
    "          id_vars= ['Province/State','Country/Region','Lat','Long'],\n",
    "          var_name='Date',value_name= k))"
   ]
  },
  {
   "cell_type": "code",
   "execution_count": null,
   "metadata": {},
   "outputs": [],
   "source": [
    "dtmps"
   ]
  },
  {
   "cell_type": "code",
   "execution_count": null,
   "metadata": {},
   "outputs": [],
   "source": [
    "dtmps[0]"
   ]
  },
  {
   "cell_type": "code",
   "execution_count": null,
   "metadata": {},
   "outputs": [],
   "source": [
    "dtmps[1]"
   ]
  },
  {
   "cell_type": "code",
   "execution_count": null,
   "metadata": {},
   "outputs": [],
   "source": [
    "dtmps[2]"
   ]
  },
  {
   "cell_type": "code",
   "execution_count": null,
   "metadata": {},
   "outputs": [],
   "source": [
    "dx=[d.set_index(['Province/State','Country/Region','Lat','Long','Date']) for d in dtmps]\n",
    "dcovid=pd.concat(dx, axis=1)\n",
    "dcovid.reset_index(inplace=True)\n",
    ""
   ]
  },
  {
   "cell_type": "code",
   "execution_count": null,
   "metadata": {},
   "outputs": [],
   "source": [
    "dcovid"
   ]
  },
  {
   "cell_type": "code",
   "execution_count": null,
   "metadata": {},
   "outputs": [],
   "source": [
    "dcovid.columns"
   ]
  },
  {
   "cell_type": "markdown",
   "metadata": {},
   "source": [
    "### remove duplicated columns"
   ],
   "execution_count": null,
   "outputs": []
  },
  {
   "cell_type": "code",
   "execution_count": null,
   "metadata": {},
   "outputs": [],
   "source": [
    "dcovid.columns"
   ]
  },
  {
   "cell_type": "code",
   "execution_count": null,
   "metadata": {},
   "outputs": [],
   "source": [
    "dcovid.columns.duplicated()"
   ]
  },
  {
   "cell_type": "code",
   "execution_count": null,
   "metadata": {},
   "outputs": [],
   "source": [
    "dcovid=dcovid.loc[:,~dcovid.columns.duplicated()]\n",
    "dcovid"
   ]
  },
  {
   "cell_type": "markdown",
   "metadata": {},
   "source": [
    "### Convert date data type"
   ],
   "execution_count": null,
   "outputs": []
  },
  {
   "cell_type": "code",
   "execution_count": null,
   "metadata": {},
   "outputs": [],
   "source": [
    "dcovid.info()"
   ]
  },
  {
   "cell_type": "code",
   "execution_count": null,
   "metadata": {},
   "outputs": [],
   "source": [
    "dcovid['Date']=pd.to_datetime(dcovid['Date'])\n",
    "# dcovid.loc[:, 'Date']=pd.to_datetime(dcovid['Date'])"
   ]
  },
  {
   "cell_type": "code",
   "execution_count": null,
   "metadata": {},
   "outputs": [],
   "source": [
    "dcovid.info()"
   ]
  },
  {
   "cell_type": "code",
   "execution_count": null,
   "metadata": {},
   "outputs": [],
   "source": [
    "dcovid.head()"
   ]
  },
  {
   "cell_type": "code",
   "execution_count": null,
   "metadata": {},
   "outputs": [],
   "source": [
    "dcovid=dcovid.sort_values(['Country/Region','Province/State','Date']).reset_index(drop=True)\n",
    "dcovid"
   ]
  },
  {
   "cell_type": "code",
   "execution_count": null,
   "metadata": {},
   "outputs": [],
   "source": [
    "pd.set_option('display.max_rows',100)"
   ]
  },
  {
   "cell_type": "code",
   "execution_count": null,
   "metadata": {},
   "outputs": [],
   "source": [
    "dcovid[dcovid['Country/Region']=='Laos']"
   ]
  },
  {
   "cell_type": "markdown",
   "metadata": {},
   "source": [
    "### aggregate by Country/Region"
   ],
   "execution_count": null,
   "outputs": []
  },
  {
   "cell_type": "code",
   "execution_count": null,
   "metadata": {},
   "outputs": [],
   "source": [
    "dcovid[dcovid['Country/Region']=='China']"
   ]
  },
  {
   "cell_type": "code",
   "execution_count": null,
   "metadata": {},
   "outputs": [],
   "source": [
    "dcountry=dcovid.groupby(['Country/Region', 'Date']).sum()[['Confirmed', 'Deaths', 'Recovered']]\n",
    "dcountry"
   ]
  },
  {
   "cell_type": "code",
   "execution_count": null,
   "metadata": {},
   "outputs": [],
   "source": [
    "dcountry.index"
   ]
  },
  {
   "cell_type": "code",
   "execution_count": null,
   "metadata": {},
   "outputs": [],
   "source": [
    "dcountry.loc['Laos']"
   ]
  },
  {
   "cell_type": "code",
   "execution_count": null,
   "metadata": {},
   "outputs": [],
   "source": [
    "dcountry.loc['Laos', '2020-04-04']"
   ]
  },
  {
   "cell_type": "markdown",
   "metadata": {},
   "source": [
    "#### ເພື່ອສະດວກໃນການສ້າງເສັ້ນສະແດງ(grap)ຄວນລີເຊັດອີນເຕັກອອກ(reset_index)"
   ],
   "execution_count": null,
   "outputs": []
  },
  {
   "cell_type": "code",
   "execution_count": null,
   "metadata": {},
   "outputs": [],
   "source": [
    "dcountry.reset_index(inplace=True)\n",
    "dcountry"
   ]
  },
  {
   "cell_type": "code",
   "execution_count": null,
   "metadata": {},
   "outputs": [],
   "source": [
    "dcountry.index"
   ]
  },
  {
   "cell_type": "markdown",
   "metadata": {},
   "source": [
    "### ອະທີບາຍແຖວທີ່ມີ diff (ແມ່ນເອົາວັກແຖວລຸ່ມມາລົບໃຫ້ວັກແຖວເທີງເພີ່ືອສະແດງໃຫ້ເຫັນການເພີ່ມຂື້ນແຕ່ລະວັນ)\n",
    "* ວັກທີ່ມີຄຳວ່າ pct_change ແມ່ນສະແດງເປັນເບີເຊັນ %"
   ],
   "execution_count": null,
   "outputs": []
  },
  {
   "cell_type": "code",
   "execution_count": null,
   "metadata": {},
   "outputs": [],
   "source": [
    "dcountry['daily_new_patient']=dcountry.groupby(['Country/Region'])['Confirmed'].diff()\n",
    "dcountry['daily_new_patient_pct']=dcountry.groupby(['Country/Region'])['Confirmed'].pct_change()"
   ]
  },
  {
   "cell_type": "code",
   "execution_count": null,
   "metadata": {},
   "outputs": [],
   "source": [
    "dcountry[dcountry['Country/Region']=='Italy']"
   ]
  },
  {
   "cell_type": "code",
   "execution_count": null,
   "metadata": {},
   "outputs": [],
   "source": [
    "dcountry[dcountry['Country/Region']=='Laos']"
   ]
  },
  {
   "cell_type": "markdown",
   "metadata": {},
   "source": [
    "### interactive chart"
   ],
   "execution_count": null,
   "outputs": []
  },
  {
   "cell_type": "markdown",
   "metadata": {},
   "source": [
    "### All Countries"
   ],
   "execution_count": null,
   "outputs": []
  },
  {
   "cell_type": "code",
   "execution_count": null,
   "metadata": {},
   "outputs": [],
   "source": [
    "pd.Series(dcountry['Country/Region'].unique()).sort_values()"
   ]
  },
  {
   "cell_type": "code",
   "execution_count": null,
   "metadata": {},
   "outputs": [],
   "source": [
    "@interact(country=pd.Series(dcountry['Country/Region'].unique()).sort_values())\n",
    "def plot_chart(country):\n",
    "    df=dcountry[dcountry['Country/Region'].str.contains(country)]\n",
    "    df[['Date', 'Confirmed', ]].set_index('Date').plot(figsize=(16, 7))"
   ]
  },
  {
   "cell_type": "markdown",
   "metadata": {},
   "source": [
    "### countries with confirmed cases > n"
   ],
   "execution_count": null,
   "outputs": []
  },
  {
   "cell_type": "code",
   "execution_count": null,
   "metadata": {},
   "outputs": [],
   "source": [
    "dq=dcountry[['Country/Region', 'Confirmed']].groupby('Country/Region').max() > 300\n",
    "dq.index[dq.Confirmed]\n",
    "\n",
    "@interact(country=pd.Series(dq.index[dq.Confirmed]))\n",
    "def plot_chart(country):\n",
    "    df=dcountry[dcountry['Country/Region'].str.contains(country)]\n",
    "    df[['Date', 'Confirmed', 'Recovered', 'Deaths']].set_index('Date').plot(figsize=(16, 7), \n",
    "                                                                            color=['purple', 'green', 'red'], \n",
    "                                                                            drawstyle='steps')\n",
    "    plt.xlabel('')\n",
    "    plt.ylabel('persons')\n",
    "    plt.title(f'COVID-19 in {country}')"
   ]
  },
  {
   "cell_type": "markdown",
   "metadata": {},
   "source": [
    "### daily new confirmed cases"
   ],
   "execution_count": null,
   "outputs": []
  },
  {
   "cell_type": "code",
   "execution_count": null,
   "metadata": {},
   "outputs": [],
   "source": [
    "dcountry[dcountry['Country/Region']=='Laos']"
   ]
  },
  {
   "cell_type": "code",
   "execution_count": null,
   "metadata": {},
   "outputs": [],
   "source": [
    "plt.figure(figsize=(16,6))\n",
    "sns.barplot(data=dcountry[dcountry['Country/Region']=='Laos'], \n",
    "        x='Date',y='daily_new_patient', color='.7')"
   ]
  },
  {
   "cell_type": "code",
   "execution_count": null,
   "metadata": {},
   "outputs": [],
   "source": [
    "plt.figure(figsize=(16, 6))\n",
    "dc=dcountry[dcountry['Country/Region']=='Thailand'].set_index('Date')\n",
    "dc['daily_new_patient'].plot(kind='bar', color='.7')"
   ]
  },
  {
   "cell_type": "markdown",
   "metadata": {},
   "source": [
    "## Log scale"
   ],
   "execution_count": null,
   "outputs": []
  },
  {
   "cell_type": "code",
   "execution_count": null,
   "metadata": {},
   "outputs": [],
   "source": [
    "country1='Malaysia'\n",
    "country2='Thailand'\n",
    "fig, ax = plt.subplots(figsize=(10, 7))\n",
    "ax.set_yscale('log', basey=10)\n",
    "dc1=dcountry[dcountry['Country/Region']==country1]\n",
    "dc2=dcountry[dcountry['Country/Region']==country2]\n",
    "sns.lineplot(x=dc1.Date, y=dc1['Confirmed'], ax=ax, color='salmon', label=country1)\n",
    "sns.lineplot(x=dc2.Date, y=dc2['Confirmed'], ax=ax, color='lightblue', label=country2)\n",
    "ax.grid()"
   ]
  },
  {
   "cell_type": "code",
   "execution_count": null,
   "metadata": {},
   "outputs": [],
   "source": [
    "fig, ax = plt.subplots(figsize=(10, 7))\n",
    "dc=dcountry[dcountry['Country/Region'].str.contains('US')]\n",
    "sns.lineplot(x=dc.Date, y=dc['Confirmed'], ax=ax, color='salmon', label='standard')\n",
    "ax2=ax.twinx()\n",
    "ax2.set_yscale('log', basey=10)\n",
    "sns.lineplot(x=dc.Date, y=dc['Confirmed'], ax=ax2, color='black', label='log')\n",
    "plt.title('COVID-19 in Thailand')\n",
    "plt.grid()\n",
    "fig.legend()"
   ]
  },
  {
   "cell_type": "code",
   "execution_count": null,
   "metadata": {},
   "outputs": [],
   "source": [
    "dq=dcountry[['Country/Region', 'Confirmed']].groupby('Country/Region').max() > 10000\n",
    "dq.index[dq.Confirmed]\n",
    "dg=dcountry[dcountry['Country/Region'].isin(dq.index[dq.Confirmed])].reset_index(drop=True)\n",
    "dg"
   ]
  },
  {
   "cell_type": "code",
   "execution_count": null,
   "metadata": {},
   "outputs": [],
   "source": [
    "sns.catplot(data=dg, x='Date', y='Confirmed', kind='point', col='Country/Region', col_wrap=4, )"
   ]
  },
  {
   "cell_type": "code",
   "execution_count": null,
   "metadata": {},
   "outputs": [],
   "source": []
  }
 ]
}